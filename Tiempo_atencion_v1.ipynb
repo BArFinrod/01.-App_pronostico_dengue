{
 "cells": [
  {
   "cell_type": "code",
   "execution_count": 1,
   "id": "b2169add-454f-443e-9696-6250793ded05",
   "metadata": {
    "tags": []
   },
   "outputs": [],
   "source": [
    "import pandas as pd\n",
    "import numpy as np\n",
    "\n",
    "import pickle\n",
    "import pdb\n",
    "\n",
    "import matplotlib.pyplot as plt\n",
    "import seaborn as sns"
   ]
  },
  {
   "cell_type": "code",
   "execution_count": 2,
   "id": "2e80816f-24f1-44f6-9d54-7b69c5d5c0fa",
   "metadata": {
    "tags": []
   },
   "outputs": [
    {
     "data": {
      "text/html": [
       "<div>\n",
       "<style scoped>\n",
       "    .dataframe tbody tr th:only-of-type {\n",
       "        vertical-align: middle;\n",
       "    }\n",
       "\n",
       "    .dataframe tbody tr th {\n",
       "        vertical-align: top;\n",
       "    }\n",
       "\n",
       "    .dataframe thead th {\n",
       "        text-align: right;\n",
       "    }\n",
       "</style>\n",
       "<table border=\"1\" class=\"dataframe\">\n",
       "  <thead>\n",
       "    <tr style=\"text-align: right;\">\n",
       "      <th></th>\n",
       "      <th>id_persona</th>\n",
       "      <th>Edad</th>\n",
       "      <th>Tipo_edad</th>\n",
       "      <th>Sexo</th>\n",
       "      <th>id_ubigeo</th>\n",
       "      <th>Fecha_atencion</th>\n",
       "      <th>Etapa</th>\n",
       "      <th>Diagnostico</th>\n",
       "      <th>Tipo_Dx</th>\n",
       "      <th>id_eess</th>\n",
       "    </tr>\n",
       "  </thead>\n",
       "  <tbody>\n",
       "    <tr>\n",
       "      <th>0</th>\n",
       "      <td>41473799</td>\n",
       "      <td>62</td>\n",
       "      <td>A</td>\n",
       "      <td>M</td>\n",
       "      <td>1045.0</td>\n",
       "      <td>20190518</td>\n",
       "      <td>60a+</td>\n",
       "      <td>C159</td>\n",
       "      <td>P</td>\n",
       "      <td>714</td>\n",
       "    </tr>\n",
       "    <tr>\n",
       "      <th>1</th>\n",
       "      <td>41473799</td>\n",
       "      <td>62</td>\n",
       "      <td>A</td>\n",
       "      <td>M</td>\n",
       "      <td>1045.0</td>\n",
       "      <td>20190518</td>\n",
       "      <td>60a+</td>\n",
       "      <td>C169</td>\n",
       "      <td>P</td>\n",
       "      <td>714</td>\n",
       "    </tr>\n",
       "    <tr>\n",
       "      <th>2</th>\n",
       "      <td>41474440</td>\n",
       "      <td>57</td>\n",
       "      <td>A</td>\n",
       "      <td>M</td>\n",
       "      <td>1243.0</td>\n",
       "      <td>20190522</td>\n",
       "      <td>30a-59a</td>\n",
       "      <td>C169</td>\n",
       "      <td>D</td>\n",
       "      <td>11165</td>\n",
       "    </tr>\n",
       "    <tr>\n",
       "      <th>3</th>\n",
       "      <td>41474302</td>\n",
       "      <td>55</td>\n",
       "      <td>A</td>\n",
       "      <td>F</td>\n",
       "      <td>1243.0</td>\n",
       "      <td>20190524</td>\n",
       "      <td>30a-59a</td>\n",
       "      <td>C719</td>\n",
       "      <td>D</td>\n",
       "      <td>11165</td>\n",
       "    </tr>\n",
       "    <tr>\n",
       "      <th>4</th>\n",
       "      <td>41474362</td>\n",
       "      <td>42</td>\n",
       "      <td>A</td>\n",
       "      <td>F</td>\n",
       "      <td>808.0</td>\n",
       "      <td>20190521</td>\n",
       "      <td>30a-59a</td>\n",
       "      <td>C509</td>\n",
       "      <td>R</td>\n",
       "      <td>2288</td>\n",
       "    </tr>\n",
       "  </tbody>\n",
       "</table>\n",
       "</div>"
      ],
      "text/plain": [
       "   id_persona  Edad Tipo_edad Sexo  id_ubigeo  Fecha_atencion    Etapa   \n",
       "0    41473799    62         A    M     1045.0        20190518     60a+  \\\n",
       "1    41473799    62         A    M     1045.0        20190518     60a+   \n",
       "2    41474440    57         A    M     1243.0        20190522  30a-59a   \n",
       "3    41474302    55         A    F     1243.0        20190524  30a-59a   \n",
       "4    41474362    42         A    F      808.0        20190521  30a-59a   \n",
       "\n",
       "  Diagnostico Tipo_Dx  id_eess  \n",
       "0        C159       P      714  \n",
       "1        C169       P      714  \n",
       "2        C169       D    11165  \n",
       "3        C719       D    11165  \n",
       "4        C509       R     2288  "
      ]
     },
     "execution_count": 2,
     "metadata": {},
     "output_type": "execute_result"
    }
   ],
   "source": [
    "# calcular los tiempos transcurridos por persona\n",
    "df_atenciones = pd.read_csv(\"C:/Users/saico/Downloads/DTS_DIGTEL_CANCER/DTS_DIGTEL_CANCER/TB_DIGTEL_CANCER_ATENCIONES.csv\")\n",
    "df_atenciones.head()"
   ]
  },
  {
   "cell_type": "code",
   "execution_count": 8,
   "id": "0d0e5ae9-26ee-4422-8aa3-1366ff82c177",
   "metadata": {
    "tags": []
   },
   "outputs": [
    {
     "data": {
      "text/plain": [
       "(943514, 13)"
      ]
     },
     "execution_count": 8,
     "metadata": {},
     "output_type": "execute_result"
    }
   ],
   "source": [
    "df_atenciones.shape"
   ]
  },
  {
   "cell_type": "code",
   "execution_count": 4,
   "id": "d13b1782-2932-452e-8f54-317b48a04ff6",
   "metadata": {
    "tags": []
   },
   "outputs": [
    {
     "data": {
      "text/plain": [
       "0   2019-05-18\n",
       "1   2019-05-18\n",
       "2   2019-05-22\n",
       "3   2019-05-24\n",
       "4   2019-05-21\n",
       "Name: Date_atencion, dtype: datetime64[ns]"
      ]
     },
     "execution_count": 4,
     "metadata": {},
     "output_type": "execute_result"
    }
   ],
   "source": [
    "df_atenciones['Date_atencion'] = pd.to_datetime(df_atenciones['Fecha_atencion'], format=\"%Y%m%d\")\n",
    "df_atenciones['Date_atencion'].head()"
   ]
  },
  {
   "cell_type": "code",
   "execution_count": 15,
   "id": "89e1db88-d57e-4fdd-ad01-bb5f34ec9aa1",
   "metadata": {
    "tags": []
   },
   "outputs": [],
   "source": [
    "# colocar una columna que sea del tipo de evento: atención, tamizaje, tratamiento, procedimiento\n",
    "# hacer una base con la persona como index1 y el tipo de evento en index2, el conteo como index3 y \n",
    "#  el valor de la fecha\n",
    "df_atenciones['ones'] = 1\n",
    "df_atenciones = df_atenciones.sort_values(['id_persona','Date_atencion'])\n",
    "df_atenciones['nevents'] = df_atenciones.groupby('id_persona')['ones'].transform('cumsum')"
   ]
  },
  {
   "cell_type": "code",
   "execution_count": 10,
   "id": "4bc8a811-1bc1-4772-be8e-a2725e6cd58d",
   "metadata": {
    "tags": []
   },
   "outputs": [
    {
     "data": {
      "image/png": "[encoded data removed]",
      "text/plain": [
       "<Figure size 640x480 with 1 Axes>"
      ]
     },
     "metadata": {},
     "output_type": "display_data"
    }
   ],
   "source": [
    "sns.histplot(df_atenciones['nevents'])\n",
    "plt.show()"
   ]
  },
  {
   "cell_type": "code",
   "execution_count": 36,
   "id": "0dc28a59-b8af-4f68-8258-59cf6acee7ff",
   "metadata": {
    "tags": []
   },
   "outputs": [
    {
     "data": {
      "text/html": [
       "<div>\n",
       "<style scoped>\n",
       "    .dataframe tbody tr th:only-of-type {\n",
       "        vertical-align: middle;\n",
       "    }\n",
       "\n",
       "    .dataframe tbody tr th {\n",
       "        vertical-align: top;\n",
       "    }\n",
       "\n",
       "    .dataframe thead th {\n",
       "        text-align: right;\n",
       "    }\n",
       "</style>\n",
       "<table border=\"1\" class=\"dataframe\">\n",
       "  <thead>\n",
       "    <tr style=\"text-align: right;\">\n",
       "      <th></th>\n",
       "      <th>id_persona</th>\n",
       "      <th>Edad</th>\n",
       "      <th>Tipo_edad</th>\n",
       "      <th>Sexo</th>\n",
       "      <th>id_ubigeo</th>\n",
       "      <th>Fecha_atencion</th>\n",
       "      <th>Etapa</th>\n",
       "      <th>Diagnostico</th>\n",
       "      <th>Tipo_Dx</th>\n",
       "      <th>id_eess</th>\n",
       "      <th>Date_atencion</th>\n",
       "      <th>ones</th>\n",
       "      <th>nevents</th>\n",
       "      <th>dist_events</th>\n",
       "    </tr>\n",
       "  </thead>\n",
       "  <tbody>\n",
       "    <tr>\n",
       "      <th>15298</th>\n",
       "      <td>24</td>\n",
       "      <td>67</td>\n",
       "      <td>A</td>\n",
       "      <td>F</td>\n",
       "      <td>1859.0</td>\n",
       "      <td>20230417</td>\n",
       "      <td>60a+</td>\n",
       "      <td>C679</td>\n",
       "      <td>D</td>\n",
       "      <td>6207</td>\n",
       "      <td>2023-04-17</td>\n",
       "      <td>1</td>\n",
       "      <td>5</td>\n",
       "      <td>3 days</td>\n",
       "    </tr>\n",
       "    <tr>\n",
       "      <th>14435</th>\n",
       "      <td>485</td>\n",
       "      <td>65</td>\n",
       "      <td>A</td>\n",
       "      <td>M</td>\n",
       "      <td>1453.0</td>\n",
       "      <td>20210128</td>\n",
       "      <td>60a+</td>\n",
       "      <td>C839</td>\n",
       "      <td>R</td>\n",
       "      <td>3</td>\n",
       "      <td>2021-01-28</td>\n",
       "      <td>1</td>\n",
       "      <td>5</td>\n",
       "      <td>16 days</td>\n",
       "    </tr>\n",
       "    <tr>\n",
       "      <th>15309</th>\n",
       "      <td>584</td>\n",
       "      <td>60</td>\n",
       "      <td>A</td>\n",
       "      <td>M</td>\n",
       "      <td>1859.0</td>\n",
       "      <td>20190416</td>\n",
       "      <td>60a+</td>\n",
       "      <td>C349</td>\n",
       "      <td>D</td>\n",
       "      <td>6203</td>\n",
       "      <td>2019-04-16</td>\n",
       "      <td>1</td>\n",
       "      <td>5</td>\n",
       "      <td>34 days</td>\n",
       "    </tr>\n",
       "    <tr>\n",
       "      <th>995</th>\n",
       "      <td>1874</td>\n",
       "      <td>63</td>\n",
       "      <td>A</td>\n",
       "      <td>F</td>\n",
       "      <td>1865.0</td>\n",
       "      <td>20190517</td>\n",
       "      <td>60a+</td>\n",
       "      <td>C478</td>\n",
       "      <td>R</td>\n",
       "      <td>5573</td>\n",
       "      <td>2019-05-17</td>\n",
       "      <td>1</td>\n",
       "      <td>5</td>\n",
       "      <td>4 days</td>\n",
       "    </tr>\n",
       "    <tr>\n",
       "      <th>10878</th>\n",
       "      <td>2154</td>\n",
       "      <td>57</td>\n",
       "      <td>A</td>\n",
       "      <td>M</td>\n",
       "      <td>1865.0</td>\n",
       "      <td>20210727</td>\n",
       "      <td>30a-59a</td>\n",
       "      <td>C921</td>\n",
       "      <td>D</td>\n",
       "      <td>6207</td>\n",
       "      <td>2021-07-27</td>\n",
       "      <td>1</td>\n",
       "      <td>5</td>\n",
       "      <td>25 days</td>\n",
       "    </tr>\n",
       "    <tr>\n",
       "      <th>16834</th>\n",
       "      <td>2166</td>\n",
       "      <td>62</td>\n",
       "      <td>A</td>\n",
       "      <td>F</td>\n",
       "      <td>1323.0</td>\n",
       "      <td>20230613</td>\n",
       "      <td>60a+</td>\n",
       "      <td>C539</td>\n",
       "      <td>D</td>\n",
       "      <td>21646</td>\n",
       "      <td>2023-06-13</td>\n",
       "      <td>1</td>\n",
       "      <td>5</td>\n",
       "      <td>60 days</td>\n",
       "    </tr>\n",
       "    <tr>\n",
       "      <th>15408</th>\n",
       "      <td>3374</td>\n",
       "      <td>81</td>\n",
       "      <td>A</td>\n",
       "      <td>F</td>\n",
       "      <td>1865.0</td>\n",
       "      <td>20210706</td>\n",
       "      <td>60a+</td>\n",
       "      <td>C20X</td>\n",
       "      <td>D</td>\n",
       "      <td>5554</td>\n",
       "      <td>2021-07-06</td>\n",
       "      <td>1</td>\n",
       "      <td>5</td>\n",
       "      <td>0 days</td>\n",
       "    </tr>\n",
       "    <tr>\n",
       "      <th>24588</th>\n",
       "      <td>4318</td>\n",
       "      <td>72</td>\n",
       "      <td>A</td>\n",
       "      <td>M</td>\n",
       "      <td>1859.0</td>\n",
       "      <td>20190704</td>\n",
       "      <td>60a+</td>\n",
       "      <td>C449</td>\n",
       "      <td>R</td>\n",
       "      <td>5574</td>\n",
       "      <td>2019-07-04</td>\n",
       "      <td>1</td>\n",
       "      <td>5</td>\n",
       "      <td>90 days</td>\n",
       "    </tr>\n",
       "    <tr>\n",
       "      <th>14507</th>\n",
       "      <td>4457</td>\n",
       "      <td>55</td>\n",
       "      <td>A</td>\n",
       "      <td>F</td>\n",
       "      <td>1460.0</td>\n",
       "      <td>20210429</td>\n",
       "      <td>30a-59a</td>\n",
       "      <td>C530</td>\n",
       "      <td>D</td>\n",
       "      <td>6207</td>\n",
       "      <td>2021-04-29</td>\n",
       "      <td>1</td>\n",
       "      <td>5</td>\n",
       "      <td>21 days</td>\n",
       "    </tr>\n",
       "    <tr>\n",
       "      <th>18754</th>\n",
       "      <td>4791</td>\n",
       "      <td>57</td>\n",
       "      <td>A</td>\n",
       "      <td>F</td>\n",
       "      <td>1859.0</td>\n",
       "      <td>20230616</td>\n",
       "      <td>30a-59a</td>\n",
       "      <td>C431</td>\n",
       "      <td>D</td>\n",
       "      <td>5573</td>\n",
       "      <td>2023-06-16</td>\n",
       "      <td>1</td>\n",
       "      <td>5</td>\n",
       "      <td>0 days</td>\n",
       "    </tr>\n",
       "    <tr>\n",
       "      <th>12774</th>\n",
       "      <td>4943</td>\n",
       "      <td>67</td>\n",
       "      <td>A</td>\n",
       "      <td>F</td>\n",
       "      <td>1859.0</td>\n",
       "      <td>20190408</td>\n",
       "      <td>60a+</td>\n",
       "      <td>C449</td>\n",
       "      <td>R</td>\n",
       "      <td>5573</td>\n",
       "      <td>2019-04-08</td>\n",
       "      <td>1</td>\n",
       "      <td>5</td>\n",
       "      <td>4 days</td>\n",
       "    </tr>\n",
       "    <tr>\n",
       "      <th>3497</th>\n",
       "      <td>5982</td>\n",
       "      <td>54</td>\n",
       "      <td>A</td>\n",
       "      <td>F</td>\n",
       "      <td>1863.0</td>\n",
       "      <td>20190313</td>\n",
       "      <td>30a-59a</td>\n",
       "      <td>C000</td>\n",
       "      <td>R</td>\n",
       "      <td>5573</td>\n",
       "      <td>2019-03-13</td>\n",
       "      <td>1</td>\n",
       "      <td>5</td>\n",
       "      <td>19 days</td>\n",
       "    </tr>\n",
       "    <tr>\n",
       "      <th>24600</th>\n",
       "      <td>6360</td>\n",
       "      <td>69</td>\n",
       "      <td>A</td>\n",
       "      <td>F</td>\n",
       "      <td>1859.0</td>\n",
       "      <td>20230425</td>\n",
       "      <td>60a+</td>\n",
       "      <td>C509</td>\n",
       "      <td>R</td>\n",
       "      <td>6203</td>\n",
       "      <td>2023-04-25</td>\n",
       "      <td>1</td>\n",
       "      <td>5</td>\n",
       "      <td>4 days</td>\n",
       "    </tr>\n",
       "    <tr>\n",
       "      <th>13826</th>\n",
       "      <td>6586</td>\n",
       "      <td>70</td>\n",
       "      <td>A</td>\n",
       "      <td>F</td>\n",
       "      <td>1859.0</td>\n",
       "      <td>20230228</td>\n",
       "      <td>60a+</td>\n",
       "      <td>C56X</td>\n",
       "      <td>P</td>\n",
       "      <td>5573</td>\n",
       "      <td>2023-02-28</td>\n",
       "      <td>1</td>\n",
       "      <td>5</td>\n",
       "      <td>0 days</td>\n",
       "    </tr>\n",
       "    <tr>\n",
       "      <th>16914</th>\n",
       "      <td>7770</td>\n",
       "      <td>78</td>\n",
       "      <td>A</td>\n",
       "      <td>M</td>\n",
       "      <td>1865.0</td>\n",
       "      <td>20230329</td>\n",
       "      <td>60a+</td>\n",
       "      <td>C61X</td>\n",
       "      <td>D</td>\n",
       "      <td>6207</td>\n",
       "      <td>2023-03-29</td>\n",
       "      <td>1</td>\n",
       "      <td>5</td>\n",
       "      <td>16 days</td>\n",
       "    </tr>\n",
       "    <tr>\n",
       "      <th>3761</th>\n",
       "      <td>8028</td>\n",
       "      <td>53</td>\n",
       "      <td>A</td>\n",
       "      <td>F</td>\n",
       "      <td>976.0</td>\n",
       "      <td>20230404</td>\n",
       "      <td>30a-59a</td>\n",
       "      <td>C531</td>\n",
       "      <td>R</td>\n",
       "      <td>26127</td>\n",
       "      <td>2023-04-04</td>\n",
       "      <td>1</td>\n",
       "      <td>5</td>\n",
       "      <td>19 days</td>\n",
       "    </tr>\n",
       "    <tr>\n",
       "      <th>40349</th>\n",
       "      <td>8496</td>\n",
       "      <td>72</td>\n",
       "      <td>A</td>\n",
       "      <td>F</td>\n",
       "      <td>1863.0</td>\n",
       "      <td>20210623</td>\n",
       "      <td>60a+</td>\n",
       "      <td>C509</td>\n",
       "      <td>D</td>\n",
       "      <td>6207</td>\n",
       "      <td>2021-06-23</td>\n",
       "      <td>1</td>\n",
       "      <td>5</td>\n",
       "      <td>70 days</td>\n",
       "    </tr>\n",
       "    <tr>\n",
       "      <th>12790</th>\n",
       "      <td>8865</td>\n",
       "      <td>73</td>\n",
       "      <td>A</td>\n",
       "      <td>F</td>\n",
       "      <td>1865.0</td>\n",
       "      <td>20210517</td>\n",
       "      <td>60a+</td>\n",
       "      <td>C509</td>\n",
       "      <td>D</td>\n",
       "      <td>5573</td>\n",
       "      <td>2021-05-17</td>\n",
       "      <td>1</td>\n",
       "      <td>5</td>\n",
       "      <td>21 days</td>\n",
       "    </tr>\n",
       "    <tr>\n",
       "      <th>16887</th>\n",
       "      <td>9128</td>\n",
       "      <td>70</td>\n",
       "      <td>A</td>\n",
       "      <td>F</td>\n",
       "      <td>1859.0</td>\n",
       "      <td>20230131</td>\n",
       "      <td>60a+</td>\n",
       "      <td>C509</td>\n",
       "      <td>D</td>\n",
       "      <td>6207</td>\n",
       "      <td>2023-01-31</td>\n",
       "      <td>1</td>\n",
       "      <td>5</td>\n",
       "      <td>1 days</td>\n",
       "    </tr>\n",
       "    <tr>\n",
       "      <th>12810</th>\n",
       "      <td>9277</td>\n",
       "      <td>83</td>\n",
       "      <td>A</td>\n",
       "      <td>F</td>\n",
       "      <td>1315.0</td>\n",
       "      <td>20230227</td>\n",
       "      <td>60a+</td>\n",
       "      <td>C574</td>\n",
       "      <td>D</td>\n",
       "      <td>6207</td>\n",
       "      <td>2023-02-27</td>\n",
       "      <td>1</td>\n",
       "      <td>5</td>\n",
       "      <td>594 days</td>\n",
       "    </tr>\n",
       "  </tbody>\n",
       "</table>\n",
       "</div>"
      ],
      "text/plain": [
       "       id_persona  Edad Tipo_edad Sexo  id_ubigeo  Fecha_atencion    Etapa   \n",
       "15298          24    67         A    F     1859.0        20230417     60a+  \\\n",
       "14435         485    65         A    M     1453.0        20210128     60a+   \n",
       "15309         584    60         A    M     1859.0        20190416     60a+   \n",
       "995          1874    63         A    F     1865.0        20190517     60a+   \n",
       "10878        2154    57         A    M     1865.0        20210727  30a-59a   \n",
       "16834        2166    62         A    F     1323.0        20230613     60a+   \n",
       "15408        3374    81         A    F     1865.0        20210706     60a+   \n",
       "24588        4318    72         A    M     1859.0        20190704     60a+   \n",
       "14507        4457    55         A    F     1460.0        20210429  30a-59a   \n",
       "18754        4791    57         A    F     1859.0        20230616  30a-59a   \n",
       "12774        4943    67         A    F     1859.0        20190408     60a+   \n",
       "3497         5982    54         A    F     1863.0        20190313  30a-59a   \n",
       "24600        6360    69         A    F     1859.0        20230425     60a+   \n",
       "13826        6586    70         A    F     1859.0        20230228     60a+   \n",
       "16914        7770    78         A    M     1865.0        20230329     60a+   \n",
       "3761         8028    53         A    F      976.0        20230404  30a-59a   \n",
       "40349        8496    72         A    F     1863.0        20210623     60a+   \n",
       "12790        8865    73         A    F     1865.0        20210517     60a+   \n",
       "16887        9128    70         A    F     1859.0        20230131     60a+   \n",
       "12810        9277    83         A    F     1315.0        20230227     60a+   \n",
       "\n",
       "      Diagnostico Tipo_Dx  id_eess Date_atencion  ones  nevents dist_events  \n",
       "15298        C679       D     6207    2023-04-17     1        5      3 days  \n",
       "14435        C839       R        3    2021-01-28     1        5     16 days  \n",
       "15309        C349       D     6203    2019-04-16     1        5     34 days  \n",
       "995          C478       R     5573    2019-05-17     1        5      4 days  \n",
       "10878        C921       D     6207    2021-07-27     1        5     25 days  \n",
       "16834        C539       D    21646    2023-06-13     1        5     60 days  \n",
       "15408        C20X       D     5554    2021-07-06     1        5      0 days  \n",
       "24588        C449       R     5574    2019-07-04     1        5     90 days  \n",
       "14507        C530       D     6207    2021-04-29     1        5     21 days  \n",
       "18754        C431       D     5573    2023-06-16     1        5      0 days  \n",
       "12774        C449       R     5573    2019-04-08     1        5      4 days  \n",
       "3497         C000       R     5573    2019-03-13     1        5     19 days  \n",
       "24600        C509       R     6203    2023-04-25     1        5      4 days  \n",
       "13826        C56X       P     5573    2023-02-28     1        5      0 days  \n",
       "16914        C61X       D     6207    2023-03-29     1        5     16 days  \n",
       "3761         C531       R    26127    2023-04-04     1        5     19 days  \n",
       "40349        C509       D     6207    2021-06-23     1        5     70 days  \n",
       "12790        C509       D     5573    2021-05-17     1        5     21 days  \n",
       "16887        C509       D     6207    2023-01-31     1        5      1 days  \n",
       "12810        C574       D     6207    2023-02-27     1        5    594 days  "
      ]
     },
     "execution_count": 36,
     "metadata": {},
     "output_type": "execute_result"
    }
   ],
   "source": [
    "df_atenciones.loc[df_atenciones['nevents']==5].head(20)"
   ]
  },
  {
   "cell_type": "code",
   "execution_count": 41,
   "id": "fb51cd1b-38b2-45ca-8365-7d80e93a4c68",
   "metadata": {
    "tags": []
   },
   "outputs": [
    {
     "data": {
      "text/html": [
       "<div>\n",
       "<style scoped>\n",
       "    .dataframe tbody tr th:only-of-type {\n",
       "        vertical-align: middle;\n",
       "    }\n",
       "\n",
       "    .dataframe tbody tr th {\n",
       "        vertical-align: top;\n",
       "    }\n",
       "\n",
       "    .dataframe thead th {\n",
       "        text-align: right;\n",
       "    }\n",
       "</style>\n",
       "<table border=\"1\" class=\"dataframe\">\n",
       "  <thead>\n",
       "    <tr style=\"text-align: right;\">\n",
       "      <th></th>\n",
       "      <th>id_persona</th>\n",
       "      <th>Edad</th>\n",
       "      <th>Tipo_edad</th>\n",
       "      <th>Sexo</th>\n",
       "      <th>id_ubigeo</th>\n",
       "      <th>Fecha_atencion</th>\n",
       "      <th>Etapa</th>\n",
       "      <th>Diagnostico</th>\n",
       "      <th>Tipo_Dx</th>\n",
       "      <th>id_eess</th>\n",
       "      <th>Date_atencion</th>\n",
       "      <th>ones</th>\n",
       "      <th>nevents</th>\n",
       "      <th>dist_events</th>\n",
       "    </tr>\n",
       "  </thead>\n",
       "  <tbody>\n",
       "    <tr>\n",
       "      <th>16910</th>\n",
       "      <td>7770</td>\n",
       "      <td>76</td>\n",
       "      <td>A</td>\n",
       "      <td>M</td>\n",
       "      <td>1865.0</td>\n",
       "      <td>20210108</td>\n",
       "      <td>60a+</td>\n",
       "      <td>C61X</td>\n",
       "      <td>D</td>\n",
       "      <td>5573</td>\n",
       "      <td>2021-01-08</td>\n",
       "      <td>1</td>\n",
       "      <td>1</td>\n",
       "      <td>NaT</td>\n",
       "    </tr>\n",
       "    <tr>\n",
       "      <th>16911</th>\n",
       "      <td>7770</td>\n",
       "      <td>76</td>\n",
       "      <td>A</td>\n",
       "      <td>M</td>\n",
       "      <td>1865.0</td>\n",
       "      <td>20210125</td>\n",
       "      <td>60a+</td>\n",
       "      <td>C61X</td>\n",
       "      <td>D</td>\n",
       "      <td>6207</td>\n",
       "      <td>2021-01-25</td>\n",
       "      <td>1</td>\n",
       "      <td>2</td>\n",
       "      <td>17 days</td>\n",
       "    </tr>\n",
       "    <tr>\n",
       "      <th>16913</th>\n",
       "      <td>7770</td>\n",
       "      <td>76</td>\n",
       "      <td>A</td>\n",
       "      <td>M</td>\n",
       "      <td>1865.0</td>\n",
       "      <td>20210720</td>\n",
       "      <td>60a+</td>\n",
       "      <td>C61X</td>\n",
       "      <td>D</td>\n",
       "      <td>5573</td>\n",
       "      <td>2021-07-20</td>\n",
       "      <td>1</td>\n",
       "      <td>3</td>\n",
       "      <td>176 days</td>\n",
       "    </tr>\n",
       "    <tr>\n",
       "      <th>16912</th>\n",
       "      <td>7770</td>\n",
       "      <td>78</td>\n",
       "      <td>A</td>\n",
       "      <td>M</td>\n",
       "      <td>1865.0</td>\n",
       "      <td>20230313</td>\n",
       "      <td>60a+</td>\n",
       "      <td>C61X</td>\n",
       "      <td>R</td>\n",
       "      <td>5573</td>\n",
       "      <td>2023-03-13</td>\n",
       "      <td>1</td>\n",
       "      <td>4</td>\n",
       "      <td>601 days</td>\n",
       "    </tr>\n",
       "    <tr>\n",
       "      <th>16914</th>\n",
       "      <td>7770</td>\n",
       "      <td>78</td>\n",
       "      <td>A</td>\n",
       "      <td>M</td>\n",
       "      <td>1865.0</td>\n",
       "      <td>20230329</td>\n",
       "      <td>60a+</td>\n",
       "      <td>C61X</td>\n",
       "      <td>D</td>\n",
       "      <td>6207</td>\n",
       "      <td>2023-03-29</td>\n",
       "      <td>1</td>\n",
       "      <td>5</td>\n",
       "      <td>16 days</td>\n",
       "    </tr>\n",
       "  </tbody>\n",
       "</table>\n",
       "</div>"
      ],
      "text/plain": [
       "       id_persona  Edad Tipo_edad Sexo  id_ubigeo  Fecha_atencion Etapa   \n",
       "16910        7770    76         A    M     1865.0        20210108  60a+  \\\n",
       "16911        7770    76         A    M     1865.0        20210125  60a+   \n",
       "16913        7770    76         A    M     1865.0        20210720  60a+   \n",
       "16912        7770    78         A    M     1865.0        20230313  60a+   \n",
       "16914        7770    78         A    M     1865.0        20230329  60a+   \n",
       "\n",
       "      Diagnostico Tipo_Dx  id_eess Date_atencion  ones  nevents dist_events  \n",
       "16910        C61X       D     5573    2021-01-08     1        1         NaT  \n",
       "16911        C61X       D     6207    2021-01-25     1        2     17 days  \n",
       "16913        C61X       D     5573    2021-07-20     1        3    176 days  \n",
       "16912        C61X       R     5573    2023-03-13     1        4    601 days  \n",
       "16914        C61X       D     6207    2023-03-29     1        5     16 days  "
      ]
     },
     "execution_count": 41,
     "metadata": {},
     "output_type": "execute_result"
    }
   ],
   "source": [
    "df_atenciones.loc[df_atenciones['id_persona']==7770]"
   ]
  },
  {
   "cell_type": "code",
   "execution_count": 22,
   "id": "d9e028ff-c2d0-451a-bf8d-378f88722b59",
   "metadata": {
    "tags": []
   },
   "outputs": [],
   "source": [
    "# distancia entre eventos\n",
    "def _get_dist_events(serie):\n",
    "    return serie - serie.shift(1)"
   ]
  },
  {
   "cell_type": "code",
   "execution_count": 23,
   "id": "2a962c27-97d1-4114-b58d-3ce5e247ff35",
   "metadata": {
    "tags": []
   },
   "outputs": [],
   "source": [
    "df_atenciones['dist_events'] = df_atenciones.groupby('id_persona')['Date_atencion'].transform(_get_dist_events)"
   ]
  },
  {
   "cell_type": "code",
   "execution_count": 30,
   "id": "44d63795-b0b3-4ce8-8252-17dd789033b8",
   "metadata": {
    "tags": []
   },
   "outputs": [
    {
     "data": {
      "image/png": "[encoded data removed]",
      "text/plain": [
       "<Figure size 640x480 with 1 Axes>"
      ]
     },
     "metadata": {},
     "output_type": "display_data"
    }
   ],
   "source": [
    "plt.hist(df_atenciones['dist_events'].dt.days, bins=500)\n",
    "plt.show()"
   ]
  },
  {
   "cell_type": "code",
   "execution_count": 48,
   "id": "c5fac641-1efd-4cd9-8775-605b1c9f9472",
   "metadata": {
    "tags": []
   },
   "outputs": [
    {
     "data": {
      "text/plain": [
       "Diagnostico\n",
       "C509    143057\n",
       "C539     63391\n",
       "C61X     54683\n",
       "C169     34686\n",
       "C189     34320\n",
       "         ...  \n",
       "c480         1\n",
       "c418         1\n",
       "c538         1\n",
       "c189         1\n",
       "c80x         1\n",
       "Name: count, Length: 520, dtype: int64"
      ]
     },
     "execution_count": 48,
     "metadata": {},
     "output_type": "execute_result"
    }
   ],
   "source": [
    "# enfermedades\n",
    "df_atenciones['Diagnostico'].value_counts()"
   ]
  },
  {
   "cell_type": "code",
   "execution_count": 50,
   "id": "31c68856-646b-4ff7-94e5-dd263918d8e6",
   "metadata": {
    "tags": []
   },
   "outputs": [
    {
     "data": {
      "text/html": [
       "<div>\n",
       "<style scoped>\n",
       "    .dataframe tbody tr th:only-of-type {\n",
       "        vertical-align: middle;\n",
       "    }\n",
       "\n",
       "    .dataframe tbody tr th {\n",
       "        vertical-align: top;\n",
       "    }\n",
       "\n",
       "    .dataframe thead th {\n",
       "        text-align: right;\n",
       "    }\n",
       "</style>\n",
       "<table border=\"1\" class=\"dataframe\">\n",
       "  <thead>\n",
       "    <tr style=\"text-align: right;\">\n",
       "      <th></th>\n",
       "      <th>id_persona</th>\n",
       "      <th>id_eess</th>\n",
       "      <th>Edad</th>\n",
       "      <th>Tipo_edad</th>\n",
       "      <th>Sexo</th>\n",
       "      <th>id_ubigeo</th>\n",
       "      <th>Fecha_atencion</th>\n",
       "      <th>Etapa</th>\n",
       "      <th>Diagnostico</th>\n",
       "      <th>Tipo_Dx</th>\n",
       "    </tr>\n",
       "  </thead>\n",
       "  <tbody>\n",
       "    <tr>\n",
       "      <th>0</th>\n",
       "      <td>41437641</td>\n",
       "      <td>7243</td>\n",
       "      <td>30</td>\n",
       "      <td>A</td>\n",
       "      <td>M</td>\n",
       "      <td>NaN</td>\n",
       "      <td>20230313</td>\n",
       "      <td>30a-59a</td>\n",
       "      <td>90780</td>\n",
       "      <td>D</td>\n",
       "    </tr>\n",
       "    <tr>\n",
       "      <th>1</th>\n",
       "      <td>41437641</td>\n",
       "      <td>7243</td>\n",
       "      <td>30</td>\n",
       "      <td>A</td>\n",
       "      <td>M</td>\n",
       "      <td>NaN</td>\n",
       "      <td>20230401</td>\n",
       "      <td>30a-59a</td>\n",
       "      <td>96421</td>\n",
       "      <td>D</td>\n",
       "    </tr>\n",
       "    <tr>\n",
       "      <th>2</th>\n",
       "      <td>41437641</td>\n",
       "      <td>7243</td>\n",
       "      <td>30</td>\n",
       "      <td>A</td>\n",
       "      <td>M</td>\n",
       "      <td>NaN</td>\n",
       "      <td>20230401</td>\n",
       "      <td>30a-59a</td>\n",
       "      <td>90780</td>\n",
       "      <td>D</td>\n",
       "    </tr>\n",
       "    <tr>\n",
       "      <th>3</th>\n",
       "      <td>41437641</td>\n",
       "      <td>7243</td>\n",
       "      <td>30</td>\n",
       "      <td>A</td>\n",
       "      <td>M</td>\n",
       "      <td>NaN</td>\n",
       "      <td>20230131</td>\n",
       "      <td>30a-59a</td>\n",
       "      <td>90780</td>\n",
       "      <td>D</td>\n",
       "    </tr>\n",
       "    <tr>\n",
       "      <th>4</th>\n",
       "      <td>41437641</td>\n",
       "      <td>7243</td>\n",
       "      <td>30</td>\n",
       "      <td>A</td>\n",
       "      <td>M</td>\n",
       "      <td>NaN</td>\n",
       "      <td>20230227</td>\n",
       "      <td>30a-59a</td>\n",
       "      <td>96421</td>\n",
       "      <td>D</td>\n",
       "    </tr>\n",
       "  </tbody>\n",
       "</table>\n",
       "</div>"
      ],
      "text/plain": [
       "   id_persona  id_eess  Edad Tipo_edad Sexo  id_ubigeo  Fecha_atencion   \n",
       "0    41437641     7243    30         A    M        NaN        20230313  \\\n",
       "1    41437641     7243    30         A    M        NaN        20230401   \n",
       "2    41437641     7243    30         A    M        NaN        20230401   \n",
       "3    41437641     7243    30         A    M        NaN        20230131   \n",
       "4    41437641     7243    30         A    M        NaN        20230227   \n",
       "\n",
       "     Etapa  Diagnostico Tipo_Dx  \n",
       "0  30a-59a        90780       D  \n",
       "1  30a-59a        96421       D  \n",
       "2  30a-59a        90780       D  \n",
       "3  30a-59a        90780       D  \n",
       "4  30a-59a        96421       D  "
      ]
     },
     "execution_count": 50,
     "metadata": {},
     "output_type": "execute_result"
    }
   ],
   "source": [
    "df_tratamientos = pd.read_csv(\"C:/Users/saico/Downloads/DTS_DIGTEL_CANCER/DTS_DIGTEL_CANCER/TB_DIGTEL_CANCER_TRATAMIENTOS.csv\")\n",
    "df_tratamientos.head()"
   ]
  },
  {
   "cell_type": "code",
   "execution_count": 53,
   "id": "95ea548c-5d36-495d-b2cb-cecfed8df8c5",
   "metadata": {
    "tags": []
   },
   "outputs": [],
   "source": [
    "df_tratamientos['Date_atencion'] = pd.to_datetime(df_tratamientos['Fecha_atencion'], format=\"%Y%m%d\")"
   ]
  },
  {
   "cell_type": "code",
   "execution_count": 54,
   "id": "106ce350-a952-47d8-8157-3b665aec7fd2",
   "metadata": {
    "tags": []
   },
   "outputs": [],
   "source": [
    "df_tratamientos['Evento'] = 'Tratamiento'\n",
    "df_atenciones['Evento'] = 'Atención'"
   ]
  },
  {
   "cell_type": "code",
   "execution_count": 55,
   "id": "6fed9429-01c7-4ed2-9a13-f3ae3ede9b22",
   "metadata": {
    "tags": []
   },
   "outputs": [],
   "source": [
    "df_tratamientos['ones'] = 1\n",
    "df_tratamientos = df_tratamientos.sort_values(['id_persona','Date_atencion'])\n",
    "df_tratamientos['nevents'] = df_tratamientos.groupby('id_persona')['ones'].transform('cumsum')"
   ]
  },
  {
   "cell_type": "code",
   "execution_count": 56,
   "id": "0f9ee749-ef62-412b-9453-7bc4a53fc0a0",
   "metadata": {
    "tags": []
   },
   "outputs": [],
   "source": [
    "df_tratamientos['dist_events'] = df_tratamientos.groupby('id_persona')['Date_atencion'].transform(_get_dist_events)"
   ]
  },
  {
   "cell_type": "code",
   "execution_count": 81,
   "id": "ae6cc662-f15f-4fe4-a3b5-faba41ea4b39",
   "metadata": {
    "tags": []
   },
   "outputs": [],
   "source": [
    "df_events = pd.concat([df_atenciones, df_tratamientos])\n",
    "# df_events = df_events.set_index(['id_persona','Evento','nevents'])"
   ]
  },
  {
   "cell_type": "code",
   "execution_count": 82,
   "id": "e959dada-01b2-4e80-b464-21f125b69e7a",
   "metadata": {
    "tags": []
   },
   "outputs": [],
   "source": [
    "# la observación es estudiable si su primera atención y primer tratamiento fue entre enero y julio del mismo año\n",
    "# sre_atencion_min = df_events.groupby(['id_persona','Evento'])['Date_atencion'].transform(min)\n",
    "sre_atencion_min = df_events.loc[df_events['Evento']=='Atención'].groupby('id_persona').agg({'Date_atencion':min}).rename({'Date_atencion':'atencion_date_min'}, axis=1)\n",
    "sre_tratamiento_min = df_events.loc[df_events['Evento']=='Tratamiento'].groupby('id_persona').agg({'Date_atencion':min}).rename({'Date_atencion':'tratamiento_date_min'}, axis=1)"
   ]
  },
  {
   "cell_type": "code",
   "execution_count": 83,
   "id": "c8e09087-0fc0-4af1-9328-fd72bc54b2df",
   "metadata": {
    "tags": []
   },
   "outputs": [],
   "source": [
    "df_events = df_events.merge(sre_atencion_min, left_on='id_persona', right_index=True, how='outer')\n",
    "df_events = df_events.merge(sre_tratamiento_min, left_on='id_persona', right_index=True, how='outer')"
   ]
  },
  {
   "cell_type": "code",
   "execution_count": 85,
   "id": "5026f09d-c805-4b3c-8d7f-aa04f0e9ad1c",
   "metadata": {
    "tags": []
   },
   "outputs": [],
   "source": [
    "df_events['dist_trat_atencion'] = df_events['tratamiento_date_min'] - df_events['atencion_date_min']"
   ]
  },
  {
   "cell_type": "code",
   "execution_count": 91,
   "id": "c6b4c148-afdb-41ba-9e35-d22edaf058e0",
   "metadata": {
    "tags": []
   },
   "outputs": [],
   "source": [
    "# solo eventos de tratamiento y atención en el mismo año\n",
    "df_events['tratamiento_date_min_year'] = df_events['tratamiento_date_min'].dt.year\n",
    "df_events['atencion_date_min_year'] = df_events['atencion_date_min'].dt.year"
   ]
  },
  {
   "cell_type": "code",
   "execution_count": 95,
   "id": "58d05fd0-91b6-4cd2-8943-50313d7a9d7d",
   "metadata": {
    "tags": []
   },
   "outputs": [],
   "source": [
    "df_events['same_year'] = df_events['atencion_date_min_year']==df_events['tratamiento_date_min_year']"
   ]
  },
  {
   "cell_type": "code",
   "execution_count": 98,
   "id": "d915bdc9-8aa6-4a58-b97d-4538d06fc4eb",
   "metadata": {
    "tags": []
   },
   "outputs": [
    {
     "data": {
      "image/png": "[encoded data removed]",
      "text/plain": [
       "<Figure size 640x480 with 1 Axes>"
      ]
     },
     "metadata": {},
     "output_type": "display_data"
    }
   ],
   "source": [
    "plt.hist(df_events.loc[df_events['same_year'],'dist_trat_atencion'].dt.days, bins=100)\n",
    "plt.show()"
   ]
  },
  {
   "cell_type": "markdown",
   "id": "e691c3e7-1bb0-4b5f-a234-42728f3c61cc",
   "metadata": {},
   "source": [
    "# Pacientes de una sola dolencia"
   ]
  },
  {
   "cell_type": "code",
   "execution_count": 2,
   "id": "b5b94f9d-b000-49f7-be3e-58baf651c226",
   "metadata": {
    "tags": []
   },
   "outputs": [],
   "source": [
    "df_atenciones = pd.read_csv(\"C:/Users/saico/Downloads/DTS_DIGTEL_CANCER/DTS_DIGTEL_CANCER/TB_DIGTEL_CANCER_ATENCIONES.csv\")\n",
    "df_atenciones['ones'] = 1"
   ]
  },
  {
   "cell_type": "code",
   "execution_count": 19,
   "id": "9f4ad38d-7cf6-456d-b30f-1de62efbd71a",
   "metadata": {
    "tags": []
   },
   "outputs": [],
   "source": [
    "# df_atenciones.to_pickle(\"C:/Users/saico/Downloads/DTS_DIGTEL_CANCER/DTS_DIGTEL_CANCER/TB_DIGTEL_CANCER_ATENCIONES.pickle\")"
   ]
  },
  {
   "cell_type": "code",
   "execution_count": 59,
   "id": "62602b7e-af9d-4fa9-b362-0e44dece785b",
   "metadata": {
    "tags": []
   },
   "outputs": [],
   "source": [
    "df_atenciones = pd.read_pickle(\"C:/Users/saico/Downloads/DTS_DIGTEL_CANCER/DTS_DIGTEL_CANCER/TB_DIGTEL_CANCER_ATENCIONES.pickle\")"
   ]
  },
  {
   "cell_type": "code",
   "execution_count": 60,
   "id": "9d012cb2-d5e6-4f6e-9f20-443b30e41676",
   "metadata": {
    "tags": []
   },
   "outputs": [],
   "source": [
    "df_atenciones['Date_atencion'] = pd.to_datetime(df_atenciones['Fecha_atencion'], format=\"%Y%m%d\")\n",
    "df_atenciones = df_atenciones.sort_values(['id_persona','Date_atencion'])\n",
    "df_atenciones['nevents'] = df_atenciones.groupby('id_persona')['ones'].transform('cumsum')"
   ]
  },
  {
   "cell_type": "code",
   "execution_count": 3,
   "id": "1b285589-49af-4578-9037-45a8bd7d327b",
   "metadata": {
    "tags": []
   },
   "outputs": [],
   "source": [
    "df_enfermedades = df_atenciones.loc[df_atenciones['Tipo_Dx']=='D',['id_persona','Diagnostico','ones']].drop_duplicates()\n",
    "df_enfermedades['enfermedades_id'] = df_enfermedades.groupby('id_persona')['ones'].transform('cumsum')\n",
    "df_enfermedades['enfermedades_n'] = df_enfermedades.groupby('id_persona')['enfermedades_id'].transform(max)"
   ]
  },
  {
   "cell_type": "code",
   "execution_count": 10,
   "id": "0bb1bcf5-9440-46d9-b1af-0f90295bb0fe",
   "metadata": {
    "tags": []
   },
   "outputs": [],
   "source": [
    "# 530, 531, 538, 539; serie_530\n",
    "serie_id_cuello_uterino = df_enfermedades.loc[((df_enfermedades['Diagnostico']=='C530') |\n",
    "                                 (df_enfermedades['Diagnostico']=='C531') |\n",
    "                                 (df_enfermedades['Diagnostico']=='C538') |\n",
    "                                 (df_enfermedades['Diagnostico']=='C539'))\n",
    "                                & (df_enfermedades['enfermedades_n']==1),'id_persona']"
   ]
  },
  {
   "cell_type": "code",
   "execution_count": 14,
   "id": "600e169d-1efa-45a2-90af-75e40c71d3ea",
   "metadata": {
    "tags": []
   },
   "outputs": [
    {
     "data": {
      "text/plain": [
       "id_persona\n",
       "False    11563\n",
       "Name: count, dtype: int64"
      ]
     },
     "execution_count": 14,
     "metadata": {},
     "output_type": "execute_result"
    }
   ],
   "source": [
    "# verificar que no se repitan\n",
    "serie_id_cuello_uterino.duplicated().value_counts()"
   ]
  },
  {
   "cell_type": "code",
   "execution_count": null,
   "id": "cc65396f-d8e5-47cf-bae0-0b109aea1a93",
   "metadata": {},
   "outputs": [],
   "source": [
    "serie_id_cuello_uterino_non_exclusive = df_enfermedades.loc[((df_enfermedades['Diagnostico']=='C530') |\n",
    "                                 (df_enfermedades['Diagnostico']=='C531') |\n",
    "                                 (df_enfermedades['Diagnostico']=='C538') |\n",
    "                                 (df_enfermedades['Diagnostico']=='C539'))\n",
    "                                & (df_enfermedades['enfermedades_n']>1),'id_persona'].drop_duplicates()"
   ]
  },
  {
   "cell_type": "code",
   "execution_count": 18,
   "id": "351659b0-3cf8-45e8-98dc-03623920776d",
   "metadata": {
    "tags": []
   },
   "outputs": [
    {
     "data": {
      "text/plain": [
       "93        41433445\n",
       "132          32416\n",
       "190          28853\n",
       "233           8601\n",
       "606          41251\n",
       "            ...   \n",
       "942561    16703638\n",
       "942782    31417547\n",
       "943028    31430421\n",
       "943160    33892740\n",
       "943253    16738435\n",
       "Name: id_persona, Length: 3281, dtype: int64"
      ]
     },
     "execution_count": 18,
     "metadata": {},
     "output_type": "execute_result"
    }
   ],
   "source": [
    "# no son muchas las que tienen más de un cáncer o un cáncer y otra más\n",
    "serie_id_cuello_uterino_non_exclusive"
   ]
  },
  {
   "cell_type": "markdown",
   "id": "7ea4cadf-9667-4822-9718-1aca3853e3f7",
   "metadata": {},
   "source": [
    "# Personas con cáncer de cuello uterino"
   ]
  },
  {
   "cell_type": "code",
   "execution_count": 40,
   "id": "04d0c7bb-ec51-405f-b6a6-f327e75083c3",
   "metadata": {
    "tags": []
   },
   "outputs": [
    {
     "data": {
      "text/plain": [
       "9         41474281\n",
       "13        41473640\n",
       "63        41474367\n",
       "66        41475858\n",
       "140           4547\n",
       "            ...   \n",
       "943041    25532425\n",
       "943075    22919222\n",
       "943102    16734570\n",
       "943192    33893754\n",
       "943254    41272004\n",
       "Name: id_persona, Length: 11563, dtype: int64"
      ]
     },
     "execution_count": 40,
     "metadata": {},
     "output_type": "execute_result"
    }
   ],
   "source": [
    "serie_id_cuello_uterino"
   ]
  },
  {
   "cell_type": "markdown",
   "id": "9f57bd43-c2ad-4063-b50b-81546dc0b2bd",
   "metadata": {},
   "source": [
    "# Base de datos de procedimientos"
   ]
  },
  {
   "cell_type": "code",
   "execution_count": 23,
   "id": "eab1959b-830b-48d6-aea4-24f344fb232c",
   "metadata": {},
   "outputs": [
    {
     "data": {
      "text/html": [
       "<div>\n",
       "<style scoped>\n",
       "    .dataframe tbody tr th:only-of-type {\n",
       "        vertical-align: middle;\n",
       "    }\n",
       "\n",
       "    .dataframe tbody tr th {\n",
       "        vertical-align: top;\n",
       "    }\n",
       "\n",
       "    .dataframe thead th {\n",
       "        text-align: right;\n",
       "    }\n",
       "</style>\n",
       "<table border=\"1\" class=\"dataframe\">\n",
       "  <thead>\n",
       "    <tr style=\"text-align: right;\">\n",
       "      <th></th>\n",
       "      <th>id_persona</th>\n",
       "      <th>Edad</th>\n",
       "      <th>Tipo_edad</th>\n",
       "      <th>Sexo</th>\n",
       "      <th>id_ubigeo</th>\n",
       "      <th>Fecha_atencion</th>\n",
       "      <th>Etapa</th>\n",
       "      <th>Diagnostico</th>\n",
       "      <th>Tipo_Dx</th>\n",
       "      <th>id_eess</th>\n",
       "    </tr>\n",
       "  </thead>\n",
       "  <tbody>\n",
       "    <tr>\n",
       "      <th>0</th>\n",
       "      <td>18388347</td>\n",
       "      <td>17</td>\n",
       "      <td>A</td>\n",
       "      <td>M</td>\n",
       "      <td>1248.0</td>\n",
       "      <td>20230412</td>\n",
       "      <td>12a-17a</td>\n",
       "      <td>C0009</td>\n",
       "      <td>D</td>\n",
       "      <td>4326</td>\n",
       "    </tr>\n",
       "    <tr>\n",
       "      <th>1</th>\n",
       "      <td>29359265</td>\n",
       "      <td>42</td>\n",
       "      <td>A</td>\n",
       "      <td>M</td>\n",
       "      <td>1032.0</td>\n",
       "      <td>20230601</td>\n",
       "      <td>30a-59a</td>\n",
       "      <td>99401</td>\n",
       "      <td>D</td>\n",
       "      <td>3489</td>\n",
       "    </tr>\n",
       "    <tr>\n",
       "      <th>2</th>\n",
       "      <td>35718701</td>\n",
       "      <td>10</td>\n",
       "      <td>M</td>\n",
       "      <td>M</td>\n",
       "      <td>1004.0</td>\n",
       "      <td>20210202</td>\n",
       "      <td>00a-11a</td>\n",
       "      <td>99401</td>\n",
       "      <td>D</td>\n",
       "      <td>3376</td>\n",
       "    </tr>\n",
       "    <tr>\n",
       "      <th>3</th>\n",
       "      <td>27847490</td>\n",
       "      <td>6</td>\n",
       "      <td>A</td>\n",
       "      <td>M</td>\n",
       "      <td>1151.0</td>\n",
       "      <td>20230322</td>\n",
       "      <td>00a-11a</td>\n",
       "      <td>92504</td>\n",
       "      <td>D</td>\n",
       "      <td>6609</td>\n",
       "    </tr>\n",
       "    <tr>\n",
       "      <th>4</th>\n",
       "      <td>35244915</td>\n",
       "      <td>20</td>\n",
       "      <td>A</td>\n",
       "      <td>M</td>\n",
       "      <td>1577.0</td>\n",
       "      <td>20230707</td>\n",
       "      <td>18a-29a</td>\n",
       "      <td>86780</td>\n",
       "      <td>D</td>\n",
       "      <td>2091</td>\n",
       "    </tr>\n",
       "  </tbody>\n",
       "</table>\n",
       "</div>"
      ],
      "text/plain": [
       "   id_persona  Edad Tipo_edad Sexo  id_ubigeo  Fecha_atencion    Etapa   \n",
       "0    18388347    17         A    M     1248.0        20230412  12a-17a  \\\n",
       "1    29359265    42         A    M     1032.0        20230601  30a-59a   \n",
       "2    35718701    10         M    M     1004.0        20210202  00a-11a   \n",
       "3    27847490     6         A    M     1151.0        20230322  00a-11a   \n",
       "4    35244915    20         A    M     1577.0        20230707  18a-29a   \n",
       "\n",
       "  Diagnostico Tipo_Dx  id_eess  \n",
       "0       C0009       D     4326  \n",
       "1       99401       D     3489  \n",
       "2       99401       D     3376  \n",
       "3       92504       D     6609  \n",
       "4       86780       D     2091  "
      ]
     },
     "execution_count": 23,
     "metadata": {},
     "output_type": "execute_result"
    }
   ],
   "source": [
    "df_procedimientos = pd.read_csv(\"C:/Users/saico/Downloads/DTS_DIGTEL_CANCER/DTS_DIGTEL_CANCER/TB_DIGTEL_CANCER_PROCEDIMIENTOS.csv\")\n",
    "df_procedimientos.head()"
   ]
  },
  {
   "cell_type": "code",
   "execution_count": 32,
   "id": "75a2d37c-a92c-4e86-a2da-29dda6c5e991",
   "metadata": {
    "tags": []
   },
   "outputs": [],
   "source": [
    "df_procedimientos['Date_atencion'] = pd.to_datetime(df_procedimientos['Fecha_atencion'], format=\"%Y%m%d\")"
   ]
  },
  {
   "cell_type": "code",
   "execution_count": 34,
   "id": "151390be-8f7a-4641-8e72-a53339ebf9aa",
   "metadata": {
    "tags": []
   },
   "outputs": [],
   "source": [
    "df_procedimientos = df_procedimientos.sort_values(['id_persona','Date_atencion'])"
   ]
  },
  {
   "cell_type": "code",
   "execution_count": 35,
   "id": "66db99bc-0fef-4402-91b6-082ca1dcdf46",
   "metadata": {
    "tags": []
   },
   "outputs": [],
   "source": [
    "df_procedimientos['ones'] = 1"
   ]
  },
  {
   "cell_type": "code",
   "execution_count": 36,
   "id": "fdc3ee3d-052b-4674-a257-c2199c533dfa",
   "metadata": {
    "tags": []
   },
   "outputs": [],
   "source": [
    "df_procedimientos['proc_id'] = df_procedimientos.groupby('id_persona')['ones'].transform('cumsum')"
   ]
  },
  {
   "cell_type": "code",
   "execution_count": 37,
   "id": "e332e42d-25e1-44bc-b681-d368d3098453",
   "metadata": {
    "tags": []
   },
   "outputs": [],
   "source": [
    "df_procedimientos = df_procedimientos.set_index(['id_persona','proc_id'])"
   ]
  },
  {
   "cell_type": "code",
   "execution_count": 38,
   "id": "71831c88-e432-4645-a054-ca488bf537e9",
   "metadata": {},
   "outputs": [],
   "source": [
    "# df_procedimientos.to_pickle(\"C:/Users/saico/Downloads/DTS_DIGTEL_CANCER/DTS_DIGTEL_CANCER/TB_DIGTEL_CANCER_PROCEDIMIENTOS.pickle\")"
   ]
  },
  {
   "cell_type": "code",
   "execution_count": 47,
   "id": "2e438b9f-0368-48c5-81a8-f5d7a10c4e8d",
   "metadata": {
    "tags": []
   },
   "outputs": [],
   "source": [
    "person_proc = set(df_procedimientos.index.get_level_values(0))\n",
    "person_aten = set(serie_id_cuello_uterino)"
   ]
  },
  {
   "cell_type": "code",
   "execution_count": 48,
   "id": "eff6960a-4da4-4428-b31b-5c7a5dafd122",
   "metadata": {
    "tags": []
   },
   "outputs": [],
   "source": [
    "persons_proc_aten = person_aten.intersection(person_proc)"
   ]
  },
  {
   "cell_type": "code",
   "execution_count": 52,
   "id": "f0ad2e36-bfc5-4c42-a590-fb66ae54da1c",
   "metadata": {
    "tags": []
   },
   "outputs": [],
   "source": [
    "df_procedimientos_cuellouterino = df_procedimientos.loc[list(persons_proc_aten)]"
   ]
  },
  {
   "cell_type": "code",
   "execution_count": 55,
   "id": "cad5748c-da6c-4ebe-898c-b2f8b7f395fd",
   "metadata": {
    "tags": []
   },
   "outputs": [],
   "source": [
    "# df_procedimientos_cuellouterino.to_pickle(\"C:/Users/saico/Downloads/DTS_DIGTEL_CANCER/DTS_DIGTEL_CANCER/TB_DIGTEL_CANCER_PROCEDIMIENTOS_cuellouterino.pickle\")"
   ]
  },
  {
   "cell_type": "code",
   "execution_count": 58,
   "id": "d0f2a37c-4a99-4724-9630-bf6bb9b62db5",
   "metadata": {
    "tags": []
   },
   "outputs": [
    {
     "data": {
      "text/plain": [
       "Diagnostico\n",
       "88141       7124\n",
       "99401       6640\n",
       "99402.08    5969\n",
       "99401.19    4262\n",
       "99401.13    3455\n",
       "85018       2062\n",
       "99404       1831\n",
       "D1330       1799\n",
       "C0009       1587\n",
       "99403.01    1516\n",
       "93784       1294\n",
       "96410       1287\n",
       "88300       1231\n",
       "85590       1228\n",
       "86703       1227\n",
       "85060       1218\n",
       "85048       1216\n",
       "85032       1216\n",
       "57500       1140\n",
       "99489       1109\n",
       "82565       1088\n",
       "82947       1087\n",
       "86900        700\n",
       "86780        689\n",
       "86687        680\n",
       "82040        680\n",
       "86803        675\n",
       "84155        669\n",
       "83615        665\n",
       "86906        665\n",
       "86886        661\n",
       "87340        661\n",
       "84450        592\n",
       "84460        588\n",
       "82977        571\n",
       "84075        548\n",
       "87342        546\n",
       "82247        531\n",
       "82248        527\n",
       "36430        526\n",
       "85610        523\n",
       "85014        519\n",
       "96421        479\n",
       "86704        478\n",
       "87087        474\n",
       "94760        467\n",
       "93000        459\n",
       "96365        454\n",
       "76830        437\n",
       "87285        414\n",
       "Name: count, dtype: int64"
      ]
     },
     "execution_count": 58,
     "metadata": {},
     "output_type": "execute_result"
    }
   ],
   "source": [
    "df_procedimientos_cuellouterino['Diagnostico'].value_counts().head(50)"
   ]
  },
  {
   "cell_type": "code",
   "execution_count": 61,
   "id": "45c19896-06ca-45b2-aebd-cd7e58b9f4c6",
   "metadata": {
    "tags": []
   },
   "outputs": [],
   "source": [
    "df_procedimientos_cuellouterino = df_procedimientos_cuellouterino.reset_index()\n",
    "df_procedimientos_cuellouterino = df_procedimientos_cuellouterino.rename({'proc_id':'nevents'}, axis=1)"
   ]
  },
  {
   "cell_type": "code",
   "execution_count": 65,
   "id": "2548b1c1-5f93-4322-bdaa-d0e4a22d78f5",
   "metadata": {
    "tags": []
   },
   "outputs": [],
   "source": [
    "df_atenciones = df_atenciones.set_index(['id_persona','nevents'])\n",
    "df_atenciones_cuellouterino = df_atenciones.loc[list(persons_proc_aten)]\n",
    "df_atenciones_cuellouterino = df_atenciones_cuellouterino.reset_index()"
   ]
  },
  {
   "cell_type": "code",
   "execution_count": 67,
   "id": "d0b50386-7752-4cbe-b9e1-60b461c420b2",
   "metadata": {
    "tags": []
   },
   "outputs": [],
   "source": [
    "df_procedimientos_cuellouterino['Evento'] = 'Procedimiento'\n",
    "df_atenciones_cuellouterino['Evento'] = 'Atención'"
   ]
  },
  {
   "cell_type": "code",
   "execution_count": 76,
   "id": "5ad8ed0d-6c56-4919-8f77-ad9a60a5ff14",
   "metadata": {
    "tags": []
   },
   "outputs": [],
   "source": [
    "df_events_cuellouterino = pd.concat([df_atenciones_cuellouterino, df_procedimientos_cuellouterino])\n",
    "df_events_cuellouterino = df_events_cuellouterino.set_index(['id_persona','Evento','nevents'])\n",
    "df_events_cuellouterino = df_events_cuellouterino.sort_index()"
   ]
  },
  {
   "cell_type": "code",
   "execution_count": 81,
   "id": "41f390c2-c60f-4c29-8d0a-02e7adb4e4f9",
   "metadata": {
    "tags": []
   },
   "outputs": [],
   "source": [
    "df_events_cuellouterino = df_events_cuellouterino.reset_index().set_index(['id_persona','Date_atencion','Evento','nevents'])\n",
    "df_events_cuellouterino = df_events_cuellouterino.sort_index()"
   ]
  },
  {
   "cell_type": "code",
   "execution_count": null,
   "id": "82d9add2-3f0f-4d09-86c8-f206faf5978c",
   "metadata": {},
   "outputs": [],
   "source": []
  }
 ],
 "metadata": {
  "kernelspec": {
   "display_name": "Python 3 (ipykernel)",
   "language": "python",
   "name": "python3"
  },
  "language_info": {
   "codemirror_mode": {
    "name": "ipython",
    "version": 3
   },
   "file_extension": ".py",
   "mimetype": "text/x-python",
   "name": "python",
   "nbconvert_exporter": "python",
   "pygments_lexer": "ipython3",
   "version": "3.11.2"
  }
 },
 "nbformat": 4,
 "nbformat_minor": 5
}
